{
 "cells": [
  {
   "cell_type": "markdown",
   "metadata": {},
   "source": [
    "# AIS DECODER"
   ]
  },
  {
   "cell_type": "code",
   "execution_count": null,
   "metadata": {},
   "outputs": [],
   "source": [
    "#aisdecoder env\n",
    "import pandas as pd\n",
    "import geopandas as gpd\n",
    "from decoder import NMEA_decoder\n",
    "from datetime import date\n",
    "from shapely.geometry import Point, Polygon\n",
    "import folium \n",
    "import numpy as np\n",
    "\n",
    "\n",
    "\n",
    "from mapper import *\n",
    "\n",
    "today = date.today().strftime(\"%Y-%m-%d\")\n",
    "\n",
    "style = 'symbol:pin; fill:#0000ff; fill-opacity:0.7; stroke:#ffffff; stroke-opacity:1.0; stroke-width:0.5'\n",
    "text = None\n",
    "dateTime = None"
   ]
  },
  {
   "cell_type": "code",
   "execution_count": null,
   "metadata": {},
   "outputs": [],
   "source": [
    "file_path = \"SRC\\\\Input\\\\CSK_21_01_2.txt\"\n",
    "ais_msg = NMEA_decoder(file_path)\n",
    "GPS = ais_msg.get_GPS()\n",
    "ais = ais_msg.to_df()\n",
    "# ais.to_excel('SRC\\\\Output\\\\131021\\\\Ais_decoded.xlsx')\n",
    "# GPS.to_excel('SRC\\\\Output\\\\131021\\\\GPS_decoded.xlsx')\n",
    "ais.dropna(axis=0,subset=['lon','lat'], inplace=True)\n",
    "ais.reset_index(inplace=True, drop=True)"
   ]
  },
  {
   "cell_type": "markdown",
   "metadata": {},
   "source": [
    "# MAPPER\n"
   ]
  },
  {
   "cell_type": "code",
   "execution_count": null,
   "metadata": {},
   "outputs": [],
   "source": [
    "style = 'symbol:pin; fill:#0000ff; fill-opacity:0.7; stroke:#ffffff; stroke-opacity:1.0; stroke-width:0.5'\n",
    "text = None\n",
    "dateTime = None\n",
    "\n",
    "# output_path = 'SRC\\\\Output\\\\'\n",
    "# decoded_path = '071021'\n",
    "\n",
    "# ais = pd.read_excel(output_path+decoded_path+'\\\\'+'Ais_decoded.xlsx')\n",
    "# ais.drop(ais.filter(regex='Unname'), axis=1, inplace=True)\n",
    "# ais=ais[ais['lon'].notnull()]\n",
    "# ais.reset_index(drop=True, inplace=True)\n",
    "\n",
    "# GPS = pd.read_excel(output_path+decoded_path+'\\\\'+'GPS_decoded.xlsx')\n",
    "# GPS.drop(GPS.filter(regex='Unname'), axis=1, inplace=True)"
   ]
  },
  {
   "cell_type": "code",
   "execution_count": null,
   "metadata": {},
   "outputs": [],
   "source": [
    "ais = ais[ (ais['timestamp']>'16:57:10') & (ais['timestamp']<'16:59:50')]\n",
    "# ais = ais.drop_duplicates(subset='mmsi')\n",
    "ais.dropna(axis=0,subset=['lon','lat'], inplace=True)\n",
    "ais.reset_index(inplace=True, drop=True)"
   ]
  },
  {
   "cell_type": "markdown",
   "metadata": {},
   "source": [
    "# Create Shapefiles"
   ]
  },
  {
   "cell_type": "code",
   "execution_count": null,
   "metadata": {},
   "outputs": [],
   "source": [
    "# SHP = gpd.GeoDataFrame(columns = ['style_css', 'label', 'text', 'dateTime', 'geometry'])\n",
    "# # ais = ais[ (ais['timestamp']>'16:44:59') & (ais['timestamp']<'16:59:24')]\n",
    "# ais.reset_index(inplace=True, drop=True)\n",
    "\n",
    "# output_path = 'SRC\\\\Output\\\\'\n",
    "# decoded_path = '131021'\n",
    "\n",
    "# for i in range(len(ais)):\n",
    "#     label = ais['mmsi'][i]\n",
    "#     # lat, lon = ais['latitude'][i], ais['longitude'][i]\n",
    "#     lat, lon = float(ais['lat'][i]), float(ais['lon'][i])\n",
    "#     coordinates = [(lon, lat)]\n",
    "#     geometry = Point(coordinates)\n",
    "#     new_row = {'style_css':style, 'label':label, 'text':text, 'dateTime':dateTime, 'geometry':geometry}\n",
    "#     SHP = SHP.append(new_row, ignore_index=True)\n",
    "# SHP.to_file(output_path+decoded_path+'\\\\'+'navi.shp')"
   ]
  },
  {
   "cell_type": "markdown",
   "metadata": {},
   "source": [
    "### GPS"
   ]
  },
  {
   "cell_type": "code",
   "execution_count": null,
   "metadata": {},
   "outputs": [],
   "source": [
    "GPS.head(3)"
   ]
  },
  {
   "cell_type": "code",
   "execution_count": null,
   "metadata": {},
   "outputs": [],
   "source": [
    "SHP = gpd.GeoDataFrame(columns = ['style_css', 'label', 'text', 'dateTime', 'geometry'])\n",
    "GPS = GPS[ (GPS['timestamp']>'16:56:00') & (GPS['timestamp']<'16:57:00')]\n",
    "GPS.reset_index(inplace=True, drop=True)\n",
    "\n",
    "output_path = 'SRC\\\\Output\\\\'\n",
    "# decoded_path = '131021'\n",
    "\n",
    "for i in range(len(GPS)):\n",
    "    label = GPS['timestamp'][i]\n",
    "    lat, lon = GPS['latitude'][i], GPS['longitude'][i]\n",
    "    coordinates = [(lon, lat)]\n",
    "    geometry = Point(coordinates)\n",
    "    new_row = {'style_css':style, 'label':label, 'text':text, 'dateTime':dateTime, 'geometry':geometry}\n",
    "    SHP = SHP.append(new_row, ignore_index=True)\n",
    "SHP.to_file(output_path+'GPS.shp')"
   ]
  },
  {
   "cell_type": "code",
   "execution_count": null,
   "metadata": {},
   "outputs": [],
   "source": [
    "SHP"
   ]
  },
  {
   "cell_type": "markdown",
   "metadata": {},
   "source": [
    "# Create HTML"
   ]
  },
  {
   "cell_type": "code",
   "execution_count": null,
   "metadata": {},
   "outputs": [],
   "source": [
    "ships_mmsi = ais['mmsi'].unique() # mmsi of ships identified\n",
    "n_ships_mmsi = ais['mmsi'].nunique() # number of ships identified\n",
    "\n",
    "\n",
    "for mmsi in ships_mmsi:\n",
    "     PlotPolyline(m, SubsetAis_mmsi(mmsi, ais))\n",
    "\n",
    "# plotReceiver(GPS.iloc[0:1], m)\n",
    "points = np.arange(0,GPS.shape[0], 100) # Sampling 20 sec\n",
    "\n",
    "for point in points:\n",
    "     plotReceiver(GPS.iloc[point:point+1], m)\n",
    "\n",
    "\n",
    "add_my_legend(m)\n",
    "m\n",
    "# df = SubsetAis_mmsi(ships_mmsi[3], ais)\n",
    "# points = [(x.lat, x.lon) for x in df.iloc]\n",
    "# points"
   ]
  },
  {
   "cell_type": "code",
   "execution_count": null,
   "metadata": {},
   "outputs": [],
   "source": [
    "m.save('map.html')"
   ]
  }
 ],
 "metadata": {
  "interpreter": {
   "hash": "4f8bc9dc46b8cccc671d2ac1b0107e2b4218c05d218b100e67170902e8529b31"
  },
  "kernelspec": {
   "display_name": "Python 3.9.6 64-bit ('aisdecoder': conda)",
   "name": "python3"
  },
  "language_info": {
   "codemirror_mode": {
    "name": "ipython",
    "version": 3
   },
   "file_extension": ".py",
   "mimetype": "text/x-python",
   "name": "python",
   "nbconvert_exporter": "python",
   "pygments_lexer": "ipython3",
   "version": "3.9.6"
  },
  "orig_nbformat": 4
 },
 "nbformat": 4,
 "nbformat_minor": 2
}
