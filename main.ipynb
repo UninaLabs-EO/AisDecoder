{
 "cells": [
  {
   "cell_type": "code",
   "execution_count": 1,
   "source": [
    "#aisdecoder env\r\n",
    "from pyais import decode_msg\r\n",
    "import pandas as pd\r\n",
    "from pynmea2 import parse\r\n",
    "from ddectest import NMEA_decoder"
   ],
   "outputs": [],
   "metadata": {}
  },
  {
   "cell_type": "code",
   "execution_count": 2,
   "source": [
    "file_path = \"Input\\\\Vesperino_280921.txt\"\r\n",
    "ais_msg = NMEA_decoder(file_path)\r\n",
    "# ais_df = ais_msg.to_df()\r\n",
    "# ais_df.to_excel('Ais_decoded_28_09_21.xlsx')\r\n",
    "gps = ais_msg.getGPS()\r\n"
   ],
   "outputs": [],
   "metadata": {}
  },
  {
   "cell_type": "code",
   "execution_count": 6,
   "source": [
    "gps.drop_duplicates(inplace=True, reset_index=True)"
   ],
   "outputs": [
    {
     "output_type": "error",
     "ename": "TypeError",
     "evalue": "drop_duplicates() got an unexpected keyword argument 'reset_index'",
     "traceback": [
      "\u001b[1;31m---------------------------------------------------------------------------\u001b[0m",
      "\u001b[1;31mTypeError\u001b[0m                                 Traceback (most recent call last)",
      "\u001b[1;32m~\\AppData\\Local\\Temp/ipykernel_5192/3762635323.py\u001b[0m in \u001b[0;36m<module>\u001b[1;34m\u001b[0m\n\u001b[1;32m----> 1\u001b[1;33m \u001b[0mgps\u001b[0m\u001b[1;33m.\u001b[0m\u001b[0mdrop_duplicates\u001b[0m\u001b[1;33m(\u001b[0m\u001b[0minplace\u001b[0m\u001b[1;33m=\u001b[0m\u001b[1;32mTrue\u001b[0m\u001b[1;33m,\u001b[0m \u001b[0mreset_index\u001b[0m\u001b[1;33m=\u001b[0m\u001b[1;32mTrue\u001b[0m\u001b[1;33m)\u001b[0m\u001b[1;33m\u001b[0m\u001b[1;33m\u001b[0m\u001b[0m\n\u001b[0m",
      "\u001b[1;32mC:\\Anaconda\\envs\\aisdecoder\\lib\\site-packages\\pandas\\util\\_decorators.py\u001b[0m in \u001b[0;36mwrapper\u001b[1;34m(*args, **kwargs)\u001b[0m\n\u001b[0;32m    309\u001b[0m                     \u001b[0mstacklevel\u001b[0m\u001b[1;33m=\u001b[0m\u001b[0mstacklevel\u001b[0m\u001b[1;33m,\u001b[0m\u001b[1;33m\u001b[0m\u001b[1;33m\u001b[0m\u001b[0m\n\u001b[0;32m    310\u001b[0m                 )\n\u001b[1;32m--> 311\u001b[1;33m             \u001b[1;32mreturn\u001b[0m \u001b[0mfunc\u001b[0m\u001b[1;33m(\u001b[0m\u001b[1;33m*\u001b[0m\u001b[0margs\u001b[0m\u001b[1;33m,\u001b[0m \u001b[1;33m**\u001b[0m\u001b[0mkwargs\u001b[0m\u001b[1;33m)\u001b[0m\u001b[1;33m\u001b[0m\u001b[1;33m\u001b[0m\u001b[0m\n\u001b[0m\u001b[0;32m    312\u001b[0m \u001b[1;33m\u001b[0m\u001b[0m\n\u001b[0;32m    313\u001b[0m         \u001b[1;32mreturn\u001b[0m \u001b[0mwrapper\u001b[0m\u001b[1;33m\u001b[0m\u001b[1;33m\u001b[0m\u001b[0m\n",
      "\u001b[1;31mTypeError\u001b[0m: drop_duplicates() got an unexpected keyword argument 'reset_index'"
     ]
    }
   ],
   "metadata": {}
  },
  {
   "cell_type": "code",
   "execution_count": null,
   "source": [
    "#ENV: py38\r\n",
    "import geopandas as gpd\r\n",
    "import pandas as pd\r\n",
    "from shapely.geometry import Point, Polygon\r\n",
    "import folium \r\n",
    "\r\n",
    "style = 'symbol:pin; fill:#0000ff; fill-opacity:0.7; stroke:#ffffff; stroke-opacity:1.0; stroke-width:0.5'\r\n",
    "text = None\r\n",
    "dateTime = None"
   ],
   "outputs": [],
   "metadata": {}
  },
  {
   "cell_type": "code",
   "execution_count": null,
   "source": [
    "ais = pd.read_excel('Ais_decoded_27_09_21.xlsx')\r\n",
    "ais.drop(ais.filter(regex='Unname'), axis=1, inplace=True)\r\n",
    "ais=ais[ais['lon'].notnull()]\r\n",
    "ais.reset_index(drop=True, inplace=True)\r\n",
    "ais"
   ],
   "outputs": [],
   "metadata": {}
  },
  {
   "cell_type": "code",
   "execution_count": null,
   "source": [
    "SHP = gpd.GeoDataFrame(columns = ['style_css', 'label', 'text', 'dateTime', 'geometry'])\r\n",
    "for i in range(len(ais)):\r\n",
    "    label = ais['mmsi'][i]\r\n",
    "    # lat, lon = ais['latitude'][i], ais['longitude'][i]\r\n",
    "    lat, lon = float(ais['lat'][i]), float(ais['lon'][i])\r\n",
    "    coordinates = [(lon, lat)]\r\n",
    "    geometry = Point(coordinates)\r\n",
    "    new_row = {'style_css':style, 'label':label, 'text':text, 'dateTime':dateTime, 'geometry':geometry}\r\n",
    "    SHP = SHP.append(new_row, ignore_index=True)\r\n",
    "# SHP\r\n",
    "SHP.to_file('Shapefiles\\\\Napoli_shp\\\\test.shp')"
   ],
   "outputs": [],
   "metadata": {}
  },
  {
   "cell_type": "code",
   "execution_count": null,
   "source": [
    "# m = folium.Map(location=[40.7, 14.3], zoom_start=11, tiles='CartoDB positron')"
   ],
   "outputs": [],
   "metadata": {}
  },
  {
   "cell_type": "code",
   "execution_count": null,
   "source": [
    "def plotIcon(point):\r\n",
    "    '''input: series that contains a numeric named latitude and a numeric named longitude\r\n",
    "    this function creates a CircleMarker and adds it to your this_map'''\r\n",
    "    folium.Marker(location=[point.lat, point.lon],\r\n",
    "                        popup=folium.Popup(f\"<b>{point.mmsi}</b>\", ), #sticky=True, show=True\r\n",
    "                        # radius=1,\r\n",
    "                        # weight=1,\r\n",
    "                        icon=folium.Icon(\r\n",
    "                                  icon_color='white',\r\n",
    "                                  icon='fa-ship',    # icon code from above link\r\n",
    "                                  prefix='fa'),\r\n",
    "                        ).add_to(m)\r\n",
    "\r\n",
    "\r\n",
    "def plotStartIcon(point):\r\n",
    "    '''input: series that contains a numeric named latitude and a numeric named longitude\r\n",
    "    this function creates a CircleMarker and adds it to your this_map'''\r\n",
    "    folium.Marker(location=[point.lat, point.lon],\r\n",
    "                        popup=folium.Popup(f\"<b>mmsi:{point.mmsi} time(UTC):{point.timestamp}</b>\", ), #sticky=True, show=True\r\n",
    "                        # radius=1,\r\n",
    "                        # weight=1,\r\n",
    "                        icon=folium.Icon(\r\n",
    "                                  icon_color='white',\r\n",
    "                                  icon='fa-flag',    # icon code from above link\r\n",
    "                                  prefix='fa'),\r\n",
    "                        ).add_to(m)\r\n",
    "\r\n",
    "def plotEndIcon(point):\r\n",
    "    '''input: series that contains a numeric named latitude and a numeric named longitude\r\n",
    "    this function creates a CircleMarker and adds it to your this_map'''\r\n",
    "    folium.Marker(location=[point.lat, point.lon],\r\n",
    "                        popup=folium.Popup(f\"<b>mmsi:{point.mmsi} time(UTC):{point.timestamp}</b>\", ), #sticky=True, show=True\r\n",
    "                        # radius=1,\r\n",
    "                        # weight=1,\r\n",
    "                        icon=folium.Icon(\r\n",
    "                                  icon_color='white',\r\n",
    "                                  icon='fa-ship',    # icon code from above link\r\n",
    "                                  prefix='fa'),\r\n",
    "                        ).add_to(m)\r\n",
    "\r\n",
    "def plotAnchorIcon(point):\r\n",
    "    '''input: series that contains a numeric named latitude and a numeric named longitude\r\n",
    "    this function creates a CircleMarker and adds it to your this_map'''\r\n",
    "    folium.Marker(location=[point.lat, point.lon],\r\n",
    "                        popup=folium.Popup(f\"<b>mmsi:{point.mmsi} time(UTC):{point.timestamp}</b>\", ), #sticky=True, show=True\r\n",
    "                        # radius=1,\r\n",
    "                        # weight=1,\r\n",
    "                        icon=folium.Icon(\r\n",
    "                                  icon_color='white',\r\n",
    "                                  icon='fa-anchor',    # icon code from above link\r\n",
    "                                  prefix='fa'),\r\n",
    "                        ).add_to(m)\r\n",
    "\r\n",
    "\r\n",
    "def plotDot(point):\r\n",
    "    '''input: series that contains a numeric named latitude and a numeric named longitude\r\n",
    "    this function creates a CircleMarker and adds it to your this_map'''\r\n",
    "    folium.CircleMarker(location=[point.lat, point.lon],\r\n",
    "                        popup=folium.Popup(f\"<b>mmsi:{point.mmsi}, time(UTC):{point.timestamp}</b>\", ), #sticky=True, show=True\r\n",
    "                        radius=1,\r\n",
    "                        weight=1,\r\n",
    "                        fill=True,\r\n",
    "                        ).add_to(m)\r\n",
    "\r\n",
    "m = folium.Map(location=[40.7, 14.3], zoom_start=11, tiles='CartoDB positron')\r\n",
    "# plotDot(ais.iloc[0])\r\n",
    "\r\n",
    "# ships_mmsi = ais['mmsi'].unique()\r\n",
    "\r\n",
    "# for mmsi in ships_mmsi:\r\n",
    "    # ais[ais['mmsi']=mmsi]\r\n",
    "\r\n",
    "\r\n",
    "\r\n",
    "# ais.apply(plotDot, axis=1)\r\n",
    "# map.fit_bounds(map.get_bounds()) #Set the zoom to the maximum possible\r\n",
    "# folium.LayerControl().add_to(m)\r\n",
    "# m"
   ],
   "outputs": [],
   "metadata": {}
  },
  {
   "cell_type": "code",
   "execution_count": null,
   "source": [
    "ships_mmsi = ais['mmsi'].unique() # mmsi of ships identified\r\n",
    "n_ships_mmsi = ais['mmsi'].nunique() # number of ships identified\r\n",
    "\r\n",
    "def SubsetAis_mmsi(ships_mmsi, ais: pd.DataFrame):\r\n",
    "     \"\"\"\r\n",
    "     Subset ais signal to get only the relative to the ship mmsi given in input     \r\n",
    "     \"\"\"\r\n",
    "     df = ais[ais['mmsi']==ships_mmsi]\r\n",
    "     return df\r\n",
    "\r\n",
    "def PlotPolyline(m: folium.map, SShipAIS: pd.DataFrame):\r\n",
    "     \"\"\"\r\n",
    "     Plots a polyline on a map from a list of tuple points\r\n",
    "     \"\"\"\r\n",
    "     points = [(x.lat, x.lon) for x in SShipAIS.iloc]\r\n",
    "     for point in points: \r\n",
    "          folium.CircleMarker(location=point,\r\n",
    "                        radius=0.5,\r\n",
    "                        weight=3,\r\n",
    "                        fill=True,\r\n",
    "                        ).add_to(m)\r\n",
    "     if len(points) > 1:\r\n",
    "          folium.PolyLine(points, color=\"black\", weight=0.5, opacity=1).add_to(m)\r\n",
    "          plotStartIcon(SShipAIS.iloc[0])\r\n",
    "          plotEndIcon(SShipAIS.iloc[-1])\r\n",
    "     else:\r\n",
    "          plotAnchorIcon(SShipAIS.iloc[0])\r\n",
    "\r\n",
    "\r\n",
    "m = folium.Map(location=[40.75, 14.3], zoom_start=11, tiles='CartoDB positron')\r\n",
    "for mmsi in ships_mmsi:\r\n",
    "     PlotPolyline(m, SubsetAis_mmsi(mmsi, ais))\r\n",
    "m\r\n",
    "# df = SubsetAis_mmsi(ships_mmsi[3], ais)\r\n",
    "# points = [(x.lat, x.lon) for x in df.iloc]\r\n",
    "# points"
   ],
   "outputs": [],
   "metadata": {}
  },
  {
   "cell_type": "code",
   "execution_count": null,
   "source": [
    "m.save('Output\\\\270921\\\\map\\\\map.html')"
   ],
   "outputs": [],
   "metadata": {}
  }
 ],
 "metadata": {
  "orig_nbformat": 4,
  "language_info": {
   "name": "python",
   "version": "3.9.6",
   "mimetype": "text/x-python",
   "codemirror_mode": {
    "name": "ipython",
    "version": 3
   },
   "pygments_lexer": "ipython3",
   "nbconvert_exporter": "python",
   "file_extension": ".py"
  },
  "kernelspec": {
   "name": "python3",
   "display_name": "Python 3.9.6 64-bit ('aisdecoder': conda)"
  },
  "interpreter": {
   "hash": "d596e6083a7d4005e1ef44b7dbe6e6bbf1e671832238f4e5c7af408262ed8a10"
  }
 },
 "nbformat": 4,
 "nbformat_minor": 2
}