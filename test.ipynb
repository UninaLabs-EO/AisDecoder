{
 "cells": [
  {
   "cell_type": "code",
   "execution_count": 10,
   "metadata": {},
   "outputs": [],
   "source": [
    "from datetime import timedelta, datetime\n",
    "\n",
    "timestring0='05:04:03'\n",
    "timestring1='05:04:03'\n",
    "\n",
    "def findInterval(timestring0,timestring1):\n",
    "     delta = timedelta(minutes=1, seconds=30)\n",
    "     form = '%H:%M:%S'\n",
    "\n",
    "     t0 = datetime.strptime(timestring0, form)\n",
    "     t1 = datetime.strptime(timestring1, form)\n",
    "     \n",
    "     t0 = t0 - delta\n",
    "     t0 = t0.strftime(form)\n",
    "\n",
    "     t1 = t1 + delta\n",
    "     t1 = t1.strftime(form)\n",
    "     return t0, t1"
   ]
  }
 ],
 "metadata": {
  "interpreter": {
   "hash": "3e681483caa0b24b1aa5cdb35a5732495640eb463c6d49f573e3092e8d828c08"
  },
  "kernelspec": {
   "display_name": "Python 3.8.12 ('py38')",
   "language": "python",
   "name": "python3"
  },
  "language_info": {
   "codemirror_mode": {
    "name": "ipython",
    "version": 3
   },
   "file_extension": ".py",
   "mimetype": "text/x-python",
   "name": "python",
   "nbconvert_exporter": "python",
   "pygments_lexer": "ipython3",
   "version": "3.8.12"
  },
  "orig_nbformat": 4
 },
 "nbformat": 4,
 "nbformat_minor": 2
}
